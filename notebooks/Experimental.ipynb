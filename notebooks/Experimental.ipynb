{
 "cells": [
  {
   "cell_type": "code",
   "execution_count": 1,
   "metadata": {},
   "outputs": [],
   "source": [
    "# Import libraries\n",
    "import tensorflow as tf\n",
    "import IPython.display as display\n",
    "import matplotlib.pyplot as plt\n",
    "import pandas as pd\n",
    "import numpy as np"
   ]
  },
  {
   "cell_type": "code",
   "execution_count": 16,
   "metadata": {},
   "outputs": [],
   "source": [
    "# Visualisation utilities\n",
    "\n",
    "class PlotTraining(tf.keras.callbacks.Callback):\n",
    "    def __init__(self,steps_per_epoch, sample_rate=1, zoom=1):\n",
    "        self.sample_rate = sample_rate\n",
    "        self.step = 0\n",
    "        self.zoom = zoom\n",
    "        self.steps_per_epoch = steps_per_epoch\n",
    "\n",
    "    def on_train_begin(self, logs={}):\n",
    "        self.batch_history = {}\n",
    "        self.batch_step = []\n",
    "        self.epoch_history = {}\n",
    "        self.epoch_step = []\n",
    "        self.fig, self.axes = plt.subplots(1, 2, figsize=(16, 7))\n",
    "        plt.ioff()\n",
    "\n",
    "    def on_batch_end(self, batch, logs={}):\n",
    "        if (batch % self.sample_rate) == 0:\n",
    "            self.batch_step.append(self.step)\n",
    "            for k,v in logs.items():\n",
    "                # do not log \"batch\" and \"size\" metrics that do not change\n",
    "                # do not log training accuracy \"acc\"\n",
    "                if k=='batch' or k=='size':# or k=='acc':\n",
    "                    continue\n",
    "                self.batch_history.setdefault(k, []).append(v)\n",
    "        self.step += 1\n",
    "\n",
    "    def on_epoch_end(self, epoch, logs={}):\n",
    "        plt.close(self.fig)\n",
    "        self.axes[0].cla()\n",
    "        self.axes[1].cla()\n",
    "\n",
    "        self.axes[0].set_ylim(0, 1.2/self.zoom)\n",
    "#         self.axes[1].set_ylim(1-1/self.zoom/2, 1+0.1/self.zoom/2)\n",
    "        self.axes[1].set_ylim(0, 1+0.1/self.zoom/2)\n",
    "\n",
    "        self.epoch_step.append(self.step)\n",
    "        for k,v in logs.items():\n",
    "            # only log validation metrics\n",
    "            if not k.startswith('val_'):\n",
    "                continue\n",
    "            self.epoch_history.setdefault(k, []).append(v)\n",
    "\n",
    "        display.clear_output(wait=True)\n",
    "\n",
    "        for k,v in self.batch_history.items():\n",
    "            self.axes[0 if k.endswith('loss') else 1].plot(np.array(self.batch_step) / self.steps_per_epoch, v, label=k)\n",
    "\n",
    "        for k,v in self.epoch_history.items():\n",
    "            self.axes[0 if k.endswith('loss') else 1].plot(np.array(self.epoch_step) / self.steps_per_epoch, v, label=k, linewidth=3)\n",
    "\n",
    "        self.axes[0].legend()\n",
    "        self.axes[1].legend()\n",
    "        self.axes[0].set_xlabel('epochs')\n",
    "        self.axes[1].set_xlabel('epochs')\n",
    "        self.axes[0].minorticks_on()\n",
    "        self.axes[0].grid(True, which='major', axis='both', linestyle='-', linewidth=1)\n",
    "        self.axes[0].grid(True, which='minor', axis='both', linestyle=':', linewidth=0.5)\n",
    "        self.axes[1].minorticks_on()\n",
    "        self.axes[1].grid(True, which='major', axis='both', linestyle='-', linewidth=1)\n",
    "        self.axes[1].grid(True, which='minor', axis='both', linestyle=':', linewidth=0.5)\n",
    "        display.display(self.fig)"
   ]
  },
  {
   "cell_type": "code",
   "execution_count": 3,
   "metadata": {},
   "outputs": [],
   "source": [
    "# Import dataset \n",
    "header = [\"id\", \"diagnosis\", \"radius_m\", \"texture_m\", \"perimeter_m\", \"area_m\", \"smoothness_m\", \"compact_m\", \"concavity_m\", \"concave_m\", \"symmetry_m\", \"fractal_m\", \"radius_std\", \"texture_std\", \"perimeter_std\", \"area_std\", \"smoothness_std\", \"compact_std\", \"concavity_std\", \"concave_std\", \"symmetry_std\", \"fractal_std\", \"radius_l\", \"texture_l\", \"perimeter_l\", \"area_l\", \"smoothness_l\", \"compact_l\", \"concavity_l\", \"concave_l\", \"symmetry_l\", \"fractal_l\"]\n",
    "df = pd.read_csv(\"../data/wdbc.data\",header=None,\n",
    "                names=header)\n",
    "# df.describe()\n",
    "# df.dtypes\n",
    "\n",
    "# To view the data\n",
    "df.head()"
   ]
  },
  {
   "cell_type": "code",
   "execution_count": 6,
   "metadata": {
    "scrolled": true
   },
   "outputs": [],
   "source": [
    "# breastCancer_batches = tf.data.experimental.make_csv_dataset(\"./data/wdbc.data\", batch_size=BATCH_SIZE, num_epochs=EPOCHS,\n",
    "#                                                             column_names=header,\n",
    "#                                                             label_name=\"diagnosis\")\n",
    "# for feature_batch, label_batch in breastCancer_batches.take(1):\n",
    "#     print(\"Diagnosis: {}\".format(label_batch))\n",
    "#     print(\"Features:\")\n",
    "    \n",
    "#     for key, value in feature_batch.items():\n",
    "#         print(\"  {!r:20s}: {}\".format(key, value))\n",
    "    "
   ]
  },
  {
   "cell_type": "code",
   "execution_count": 27,
   "metadata": {
    "scrolled": true
   },
   "outputs": [],
   "source": [
    "##################\n",
    "# Preprocessing  #\n",
    "##################\n",
    "df_copy = df.copy()\n",
    "labels = df_copy.pop('diagnosis')\n",
    "labels[labels=='M']=1\n",
    "labels[labels=='B']=0\n",
    "\n",
    "df_slices = tf.data.Dataset.from_tensor_slices((dict(df_copy), labels))\n",
    "df_batches = df_slices.batch(BATCH_SIZE)\n",
    "# print(df_batches)"
   ]
  },
  {
   "cell_type": "code",
   "execution_count": 8,
   "metadata": {
    "scrolled": true
   },
   "outputs": [
    {
     "data": {
      "text/plain": [
       "<tf.Tensor: shape=(5,), dtype=float64, numpy=array([10.38, 17.77, 21.25, 20.38, 14.34])>"
      ]
     },
     "execution_count": 8,
     "metadata": {},
     "output_type": "execute_result"
    }
   ],
   "source": [
    "example_batch = next(iter(df_batches))[0]\n",
    "example_batch['texture_m']"
   ]
  },
  {
   "cell_type": "code",
   "execution_count": 9,
   "metadata": {},
   "outputs": [],
   "source": [
    "##################\n",
    "# Preprocessing  #\n",
    "##################\n",
    "# cat_col = tf.feature_column.categorical_column_with_vocabulary_list(key='diagnosis',\n",
    "#                                                                    vocabulary_list=['M','B'])\n",
    "# cat_cols = [tf.feature_column.indicator_column(cat_col)]\n",
    "\n",
    "feature_columns = []\n",
    "for h in header:\n",
    "    if not h == 'id' and not h=='diagnosis':\n",
    "        feature_columns.append(tf.feature_column.numeric_column(h))\n",
    "\n",
    "# Define a feature layer\n",
    "featureLayer = tf.keras.layers.DenseFeatures(feature_columns)\n"
   ]
  },
  {
   "cell_type": "code",
   "execution_count": 26,
   "metadata": {},
   "outputs": [],
   "source": [
    "#####################\n",
    "# Hyper-parameters  #\n",
    "#####################\n",
    "BATCH_SIZE = 5\n",
    "EPOCHS = 10\n",
    "VALID_SPLIT = 0.3\n",
    "STEPS_PER_EPOCH = (df.shape[0]*(1-VALID_SPLIT))//BATCH_SIZE\n"
   ]
  },
  {
   "cell_type": "code",
   "execution_count": 11,
   "metadata": {},
   "outputs": [],
   "source": [
    "#######################\n",
    "# Create a model      #\n",
    "#######################\n",
    "seqModel = tf.keras.Sequential(\n",
    "[#featureLayer,\n",
    " tf.keras.layers.Input(shape=(30,)),\n",
    " tf.keras.layers.Dense(100),\n",
    " tf.keras.layers.Activation('relu'),\n",
    " \n",
    " tf.keras.layers.Dense(60),\n",
    " tf.keras.layers.Activation('relu'),\n",
    " \n",
    " tf.keras.layers.Dense(50),\n",
    " tf.keras.layers.Activation('relu'),\n",
    " \n",
    " tf.keras.layers.Dense(10),\n",
    " tf.keras.layers.Activation('relu'),\n",
    " \n",
    " tf.keras.layers.Dense(1, activation='softmax')\n",
    "]\n",
    ")\n",
    "\n",
    "########################\n",
    "# Summarize the model  #\n",
    "########################\n",
    "seqModel.summary()\n",
    "tf.keras.utils.plot_model(seqModel,'model.png', show_shapes=True)\n",
    "\n",
    "\n",
    "########################\n",
    "# Compile the model    #\n",
    "########################\n",
    "seqModel.compile(optimizer=tf.keras.optimizers.SGD(lr=0.3), \n",
    "                 loss=tf.keras.losses.BinaryCrossentropy(), \n",
    "                 metrics=['accuracy'])\n",
    "\n",
    "#######################\n",
    "# Fit the model       #\n",
    "#######################\n",
    "# seqModel.fit(x=df_batches, epochs=EPOCHS)\n",
    "\n",
    "# X = df.iloc[:, 2:]\n",
    "# X = X.to_numpy()\n",
    "# Y = labels.to_numpy()\n",
    "# seqModel.fit(x=X.astype(np.float32), y=Y.astype(np.float32), epochs=EPOCHS, validation_split=0.3\n",
    "\n",
    "X = tf.convert_to_tensor(df.iloc[:, 2:].to_numpy())\n",
    "Y = tf.convert_to_tensor(labels)\n",
    "\n",
    "# Utility callback that displays training curves\n",
    "plot_training = PlotTraining(STEPS_PER_EPOCH, sample_rate=1, zoom=1)\n",
    "\n",
    "seqModel.fit(x=X, y=Y, epochs=EPOCHS, batch_size= BATCH_SIZE, validation_split=VALID_SPLIT, callbacks=[plot_training])"
   ]
  },
  {
   "cell_type": "code",
   "execution_count": 15,
   "metadata": {},
   "outputs": [
    {
     "name": "stdout",
     "output_type": "stream",
     "text": [
      "Train on 398 samples, validate on 171 samples\n",
      "Epoch 1/10\n",
      "398/398 [==============================] - 0s 113us/sample - loss: 8.6208 - accuracy: 0.4347 - val_loss: 11.7713 - val_accuracy: 0.2281\n",
      "Epoch 2/10\n",
      "398/398 [==============================] - 0s 117us/sample - loss: 8.6208 - accuracy: 0.4347 - val_loss: 11.7713 - val_accuracy: 0.2281\n",
      "Epoch 3/10\n",
      "398/398 [==============================] - 0s 114us/sample - loss: 8.6208 - accuracy: 0.4347 - val_loss: 11.7713 - val_accuracy: 0.2281\n",
      "Epoch 4/10\n",
      "398/398 [==============================] - 0s 112us/sample - loss: 8.6208 - accuracy: 0.4347 - val_loss: 11.7713 - val_accuracy: 0.2281\n",
      "Epoch 5/10\n",
      "398/398 [==============================] - 0s 113us/sample - loss: 8.6208 - accuracy: 0.4347 - val_loss: 11.7713 - val_accuracy: 0.2281\n",
      "Epoch 6/10\n",
      "398/398 [==============================] - 0s 114us/sample - loss: 8.6208 - accuracy: 0.4347 - val_loss: 11.7713 - val_accuracy: 0.2281\n",
      "Epoch 7/10\n",
      "398/398 [==============================] - 0s 129us/sample - loss: 8.6208 - accuracy: 0.4347 - val_loss: 11.7713 - val_accuracy: 0.2281\n",
      "Epoch 8/10\n",
      "398/398 [==============================] - 0s 104us/sample - loss: 8.6208 - accuracy: 0.4347 - val_loss: 11.7713 - val_accuracy: 0.2281\n",
      "Epoch 9/10\n",
      "398/398 [==============================] - 0s 112us/sample - loss: 8.6208 - accuracy: 0.4347 - val_loss: 11.7713 - val_accuracy: 0.2281\n",
      "Epoch 10/10\n",
      "398/398 [==============================] - 0s 124us/sample - loss: 8.6208 - accuracy: 0.4347 - val_loss: 11.7713 - val_accuracy: 0.2281\n"
     ]
    },
    {
     "data": {
      "image/png": "[encoded data removed]",
      "text/plain": [
       "<Figure size 432x288 with 1 Axes>"
      ]
     },
     "metadata": {
      "needs_background": "light"
     },
     "output_type": "display_data"
    }
   ],
   "source": [
    "history = seqModel.fit(x=X, y=Y, epochs=EPOCHS, validation_split=0.3)\n",
    "\n",
    "# Plot the learning curves \n",
    "plt.title('Learning curves')\n",
    "plt.xlabel('Epoch')\n",
    "plt.ylabel('Cross Entropy')\n",
    "plt.plot(history.history['loss'], label='Train')\n",
    "plt.plot(history.history['val_loss'], label='Val')\n",
    "plt.legend()\n",
    "plt.show()"
   ]
  }
 ],
 "metadata": {
  "kernelspec": {
   "display_name": "Python 3",
   "language": "python",
   "name": "python3"
  },
  "language_info": {
   "codemirror_mode": {
    "name": "ipython",
    "version": 3
   },
   "file_extension": ".py",
   "mimetype": "text/x-python",
   "name": "python",
   "nbconvert_exporter": "python",
   "pygments_lexer": "ipython3",
   "version": "3.7.4"
  }
 },
 "nbformat": 4,
 "nbformat_minor": 2
}
