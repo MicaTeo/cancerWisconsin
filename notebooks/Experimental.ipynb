{
 "cells": [
  {
   "cell_type": "code",
   "execution_count": 34,
   "metadata": {},
   "outputs": [],
   "source": [
    "# Import libraries\n",
    "import tensorflow as tf\n",
    "import matplotlib.pyplot as plt\n",
    "import pandas as pd\n",
    "import numpy as np"
   ]
  },
  {
   "cell_type": "code",
   "execution_count": 36,
   "metadata": {},
   "outputs": [],
   "source": [
    "# Import dataset \n",
    "header = [\"id\", \"diagnosis\", \"radius_m\", \"texture_m\", \"perimeter_m\", \"area_m\", \"smoothness_m\", \"compact_m\", \"concavity_m\", \"concave_m\", \"symmetry_m\", \"fractal_m\", \"radius_std\", \"texture_std\", \"perimeter_std\", \"area_std\", \"smoothness_std\", \"compact_std\", \"concavity_std\", \"concave_std\", \"symmetry_std\", \"fractal_std\", \"radius_l\", \"texture_l\", \"perimeter_l\", \"area_l\", \"smoothness_l\", \"compact_l\", \"concavity_l\", \"concave_l\", \"symmetry_l\", \"fractal_l\"]\n",
    "df = pd.read_csv(\"./data/wdbc.data\",header=None,\n",
    "                names=header)\n",
    "# df.describe()\n",
    "# df.dtypes"
   ]
  },
  {
   "cell_type": "code",
   "execution_count": 66,
   "metadata": {},
   "outputs": [
    {
     "data": {
      "text/html": [
       "<div>\n",
       "<style scoped>\n",
       "    .dataframe tbody tr th:only-of-type {\n",
       "        vertical-align: middle;\n",
       "    }\n",
       "\n",
       "    .dataframe tbody tr th {\n",
       "        vertical-align: top;\n",
       "    }\n",
       "\n",
       "    .dataframe thead th {\n",
       "        text-align: right;\n",
       "    }\n",
       "</style>\n",
       "<table border=\"1\" class=\"dataframe\">\n",
       "  <thead>\n",
       "    <tr style=\"text-align: right;\">\n",
       "      <th></th>\n",
       "      <th>id</th>\n",
       "      <th>diagnosis</th>\n",
       "      <th>radius_m</th>\n",
       "      <th>texture_m</th>\n",
       "      <th>perimeter_m</th>\n",
       "      <th>area_m</th>\n",
       "      <th>smoothness_m</th>\n",
       "      <th>compact_m</th>\n",
       "      <th>concavity_m</th>\n",
       "      <th>concave_m</th>\n",
       "      <th>...</th>\n",
       "      <th>radius_l</th>\n",
       "      <th>texture_l</th>\n",
       "      <th>perimeter_l</th>\n",
       "      <th>area_l</th>\n",
       "      <th>smoothness_l</th>\n",
       "      <th>compact_l</th>\n",
       "      <th>concavity_l</th>\n",
       "      <th>concave_l</th>\n",
       "      <th>symmetry_l</th>\n",
       "      <th>fractal_l</th>\n",
       "    </tr>\n",
       "  </thead>\n",
       "  <tbody>\n",
       "    <tr>\n",
       "      <th>0</th>\n",
       "      <td>842302</td>\n",
       "      <td>M</td>\n",
       "      <td>17.99</td>\n",
       "      <td>10.38</td>\n",
       "      <td>122.80</td>\n",
       "      <td>1001.0</td>\n",
       "      <td>0.11840</td>\n",
       "      <td>0.27760</td>\n",
       "      <td>0.3001</td>\n",
       "      <td>0.14710</td>\n",
       "      <td>...</td>\n",
       "      <td>25.38</td>\n",
       "      <td>17.33</td>\n",
       "      <td>184.60</td>\n",
       "      <td>2019.0</td>\n",
       "      <td>0.1622</td>\n",
       "      <td>0.6656</td>\n",
       "      <td>0.7119</td>\n",
       "      <td>0.2654</td>\n",
       "      <td>0.4601</td>\n",
       "      <td>0.11890</td>\n",
       "    </tr>\n",
       "    <tr>\n",
       "      <th>1</th>\n",
       "      <td>842517</td>\n",
       "      <td>M</td>\n",
       "      <td>20.57</td>\n",
       "      <td>17.77</td>\n",
       "      <td>132.90</td>\n",
       "      <td>1326.0</td>\n",
       "      <td>0.08474</td>\n",
       "      <td>0.07864</td>\n",
       "      <td>0.0869</td>\n",
       "      <td>0.07017</td>\n",
       "      <td>...</td>\n",
       "      <td>24.99</td>\n",
       "      <td>23.41</td>\n",
       "      <td>158.80</td>\n",
       "      <td>1956.0</td>\n",
       "      <td>0.1238</td>\n",
       "      <td>0.1866</td>\n",
       "      <td>0.2416</td>\n",
       "      <td>0.1860</td>\n",
       "      <td>0.2750</td>\n",
       "      <td>0.08902</td>\n",
       "    </tr>\n",
       "    <tr>\n",
       "      <th>2</th>\n",
       "      <td>84300903</td>\n",
       "      <td>M</td>\n",
       "      <td>19.69</td>\n",
       "      <td>21.25</td>\n",
       "      <td>130.00</td>\n",
       "      <td>1203.0</td>\n",
       "      <td>0.10960</td>\n",
       "      <td>0.15990</td>\n",
       "      <td>0.1974</td>\n",
       "      <td>0.12790</td>\n",
       "      <td>...</td>\n",
       "      <td>23.57</td>\n",
       "      <td>25.53</td>\n",
       "      <td>152.50</td>\n",
       "      <td>1709.0</td>\n",
       "      <td>0.1444</td>\n",
       "      <td>0.4245</td>\n",
       "      <td>0.4504</td>\n",
       "      <td>0.2430</td>\n",
       "      <td>0.3613</td>\n",
       "      <td>0.08758</td>\n",
       "    </tr>\n",
       "    <tr>\n",
       "      <th>3</th>\n",
       "      <td>84348301</td>\n",
       "      <td>M</td>\n",
       "      <td>11.42</td>\n",
       "      <td>20.38</td>\n",
       "      <td>77.58</td>\n",
       "      <td>386.1</td>\n",
       "      <td>0.14250</td>\n",
       "      <td>0.28390</td>\n",
       "      <td>0.2414</td>\n",
       "      <td>0.10520</td>\n",
       "      <td>...</td>\n",
       "      <td>14.91</td>\n",
       "      <td>26.50</td>\n",
       "      <td>98.87</td>\n",
       "      <td>567.7</td>\n",
       "      <td>0.2098</td>\n",
       "      <td>0.8663</td>\n",
       "      <td>0.6869</td>\n",
       "      <td>0.2575</td>\n",
       "      <td>0.6638</td>\n",
       "      <td>0.17300</td>\n",
       "    </tr>\n",
       "    <tr>\n",
       "      <th>4</th>\n",
       "      <td>84358402</td>\n",
       "      <td>M</td>\n",
       "      <td>20.29</td>\n",
       "      <td>14.34</td>\n",
       "      <td>135.10</td>\n",
       "      <td>1297.0</td>\n",
       "      <td>0.10030</td>\n",
       "      <td>0.13280</td>\n",
       "      <td>0.1980</td>\n",
       "      <td>0.10430</td>\n",
       "      <td>...</td>\n",
       "      <td>22.54</td>\n",
       "      <td>16.67</td>\n",
       "      <td>152.20</td>\n",
       "      <td>1575.0</td>\n",
       "      <td>0.1374</td>\n",
       "      <td>0.2050</td>\n",
       "      <td>0.4000</td>\n",
       "      <td>0.1625</td>\n",
       "      <td>0.2364</td>\n",
       "      <td>0.07678</td>\n",
       "    </tr>\n",
       "  </tbody>\n",
       "</table>\n",
       "<p>5 rows × 32 columns</p>\n",
       "</div>"
      ],
      "text/plain": [
       "         id diagnosis  radius_m  texture_m  perimeter_m  area_m  smoothness_m  \\\n",
       "0    842302         M     17.99      10.38       122.80  1001.0       0.11840   \n",
       "1    842517         M     20.57      17.77       132.90  1326.0       0.08474   \n",
       "2  84300903         M     19.69      21.25       130.00  1203.0       0.10960   \n",
       "3  84348301         M     11.42      20.38        77.58   386.1       0.14250   \n",
       "4  84358402         M     20.29      14.34       135.10  1297.0       0.10030   \n",
       "\n",
       "   compact_m  concavity_m  concave_m  ...  radius_l  texture_l  perimeter_l  \\\n",
       "0    0.27760       0.3001    0.14710  ...     25.38      17.33       184.60   \n",
       "1    0.07864       0.0869    0.07017  ...     24.99      23.41       158.80   \n",
       "2    0.15990       0.1974    0.12790  ...     23.57      25.53       152.50   \n",
       "3    0.28390       0.2414    0.10520  ...     14.91      26.50        98.87   \n",
       "4    0.13280       0.1980    0.10430  ...     22.54      16.67       152.20   \n",
       "\n",
       "   area_l  smoothness_l  compact_l  concavity_l  concave_l  symmetry_l  \\\n",
       "0  2019.0        0.1622     0.6656       0.7119     0.2654      0.4601   \n",
       "1  1956.0        0.1238     0.1866       0.2416     0.1860      0.2750   \n",
       "2  1709.0        0.1444     0.4245       0.4504     0.2430      0.3613   \n",
       "3   567.7        0.2098     0.8663       0.6869     0.2575      0.6638   \n",
       "4  1575.0        0.1374     0.2050       0.4000     0.1625      0.2364   \n",
       "\n",
       "   fractal_l  \n",
       "0    0.11890  \n",
       "1    0.08902  \n",
       "2    0.08758  \n",
       "3    0.17300  \n",
       "4    0.07678  \n",
       "\n",
       "[5 rows x 32 columns]"
      ]
     },
     "execution_count": 66,
     "metadata": {},
     "output_type": "execute_result"
    }
   ],
   "source": [
    "# To view the data\n",
    "df.head()\n"
   ]
  },
  {
   "cell_type": "code",
   "execution_count": 38,
   "metadata": {},
   "outputs": [],
   "source": [
    "# Hyper-parameters\n",
    "BATCH_SIZE = 50\n",
    "EPOCHS = 10"
   ]
  },
  {
   "cell_type": "code",
   "execution_count": 180,
   "metadata": {
    "scrolled": true
   },
   "outputs": [
    {
     "name": "stdout",
     "output_type": "stream",
     "text": [
      "Diagnosis: [b'B' b'B' b'M' b'B' b'B' b'B' b'B' b'B' b'M' b'M']\n",
      "Features:\n",
      "  'id'                : [ 869224  903811    8670  877501  911366  894855 8712853 8710441  903516\n",
      "  854253]\n",
      "  'radius_m'          : [12.9   14.06  15.46  12.23  11.62  12.86  14.97   9.731 21.61  16.74 ]\n",
      "  'texture_m'         : [15.92 17.18 19.48 19.56 18.18 13.32 16.95 15.34 22.28 21.59]\n",
      "  'perimeter_m'       : [ 83.74  89.75 101.7   78.54  76.38  82.82  96.22  63.78 144.4  110.1 ]\n",
      "  'area_m'            : [ 512.2  609.1  748.9  461.   408.8  504.8  685.9  300.2 1407.   869.5]\n",
      "  'smoothness_m'      : [0.08677 0.08045 0.1092  0.09586 0.1175  0.1134  0.09855 0.1072  0.1167\n",
      " 0.0961 ]\n",
      "  'compact_m'         : [0.09509 0.05361 0.1223  0.08087 0.1483  0.08834 0.07885 0.1599  0.2087\n",
      " 0.1336 ]\n",
      "  'concavity_m'       : [0.04894 0.02681 0.1466  0.04187 0.102   0.038   0.02602 0.4108  0.281\n",
      " 0.1348 ]\n",
      "  'concave_m'         : [0.03088 0.03251 0.08087 0.04107 0.05564 0.034   0.03781 0.07857 0.1562\n",
      " 0.06018]\n",
      "  'symmetry_m'        : [0.1778 0.1641 0.1931 0.1979 0.1957 0.1543 0.178  0.2548 0.2162 0.1896]\n",
      "  'fractal_m'         : [0.06235 0.05764 0.05796 0.06013 0.07255 0.06476 0.0565  0.09296 0.06606\n",
      " 0.05656]\n",
      "  'radius_std'        : [0.2143 0.1504 0.4743 0.3534 0.4101 0.2212 0.2713 0.8245 0.6242 0.4615]\n",
      "  'texture_std'       : [0.7712 1.685  0.7859 1.326  1.74   1.042  1.217  2.664  0.9209 0.9197]\n",
      "  'perimeter_std'     : [1.689 1.237 3.094 2.308 3.027 1.614 1.893 4.073 4.158 3.008]\n",
      "  'area_std'          : [16.64 12.67 48.31 27.24 27.85 16.57 24.28 49.85 80.99 45.19]\n",
      "  'smoothness_std'    : [0.005324 0.005371 0.00624  0.007514 0.01459  0.00591  0.00508  0.01097\n",
      " 0.005215 0.005776]\n",
      "  'compact_std'       : [0.01563 0.01273 0.01484 0.01779 0.03206 0.02016 0.0137  0.09586 0.03726\n",
      " 0.02499]\n",
      "  'concavity_std'     : [0.0151   0.01132  0.02813  0.01401  0.04961  0.01902  0.007276 0.396\n",
      " 0.04718  0.03695 ]\n",
      "  'concave_std'       : [0.007584 0.009155 0.01093  0.0114   0.01841  0.01011  0.009073 0.05279\n",
      " 0.01288  0.01195 ]\n",
      "  'symmetry_std'      : [0.02104 0.01719 0.01397 0.01503 0.01807 0.01202 0.0135  0.03546 0.02045\n",
      " 0.02789]\n",
      "  'fractal_std'       : [0.001887 0.001444 0.002461 0.003338 0.005217 0.003107 0.001706 0.02984\n",
      " 0.004028 0.002665]\n",
      "  'radius_l'          : [14.48 14.92 19.26 14.44 13.36 14.04 16.11 11.02 26.23 20.01]\n",
      "  'texture_l'         : [21.82 25.34 26.   28.36 25.4  21.08 23.   19.49 28.74 29.02]\n",
      "  'perimeter_l'       : [ 97.17  96.42 124.9   92.15  88.14  92.8  104.6   71.04 172.   133.5 ]\n",
      "  'area_l'            : [ 643.8  684.5 1156.   638.4  528.1  599.5  793.7  380.5 2081.  1229. ]\n",
      "  'smoothness_l'      : [0.1312 0.1066 0.1546 0.1429 0.178  0.1547 0.1216 0.1292 0.1502 0.1563]\n",
      "  'compact_l'         : [0.2548 0.1231 0.2394 0.2042 0.2878 0.2231 0.1637 0.2772 0.5717 0.3835]\n",
      "  'concavity_l'       : [0.209   0.0846  0.3791  0.1377  0.3186  0.1791  0.06648 0.8216  0.7053\n",
      " 0.5409 ]\n",
      "  'concave_l'         : [0.1012  0.07911 0.1514  0.108   0.1416  0.1155  0.08485 0.1571  0.2422\n",
      " 0.1813 ]\n",
      "  'symmetry_l'        : [0.3549 0.2523 0.2837 0.2668 0.266  0.2382 0.2404 0.3108 0.3828 0.4863]\n",
      "  'fractal_l'         : [0.08118 0.06609 0.08019 0.08174 0.0927  0.08553 0.06428 0.1259  0.1007\n",
      " 0.08633]\n"
     ]
    }
   ],
   "source": [
    "# breastCancer_batches = tf.data.experimental.make_csv_dataset(\"./data/wdbc.data\", batch_size=BATCH_SIZE, num_epochs=EPOCHS,\n",
    "#                                                             column_names=header,\n",
    "#                                                             label_name=\"diagnosis\")\n",
    "# for feature_batch, label_batch in breastCancer_batches.take(1):\n",
    "#     print(\"Diagnosis: {}\".format(label_batch))\n",
    "#     print(\"Features:\")\n",
    "    \n",
    "#     for key, value in feature_batch.items():\n",
    "#         print(\"  {!r:20s}: {}\".format(key, value))\n",
    "    "
   ]
  },
  {
   "cell_type": "code",
   "execution_count": 39,
   "metadata": {
    "scrolled": true
   },
   "outputs": [
    {
     "name": "stdout",
     "output_type": "stream",
     "text": [
      "<BatchDataset shapes: ({id: (None,), radius_m: (None,), texture_m: (None,), perimeter_m: (None,), area_m: (None,), smoothness_m: (None,), compact_m: (None,), concavity_m: (None,), concave_m: (None,), symmetry_m: (None,), fractal_m: (None,), radius_std: (None,), texture_std: (None,), perimeter_std: (None,), area_std: (None,), smoothness_std: (None,), compact_std: (None,), concavity_std: (None,), concave_std: (None,), symmetry_std: (None,), fractal_std: (None,), radius_l: (None,), texture_l: (None,), perimeter_l: (None,), area_l: (None,), smoothness_l: (None,), compact_l: (None,), concavity_l: (None,), concave_l: (None,), symmetry_l: (None,), fractal_l: (None,)}, (None,)), types: ({id: tf.int32, radius_m: tf.float64, texture_m: tf.float64, perimeter_m: tf.float64, area_m: tf.float64, smoothness_m: tf.float64, compact_m: tf.float64, concavity_m: tf.float64, concave_m: tf.float64, symmetry_m: tf.float64, fractal_m: tf.float64, radius_std: tf.float64, texture_std: tf.float64, perimeter_std: tf.float64, area_std: tf.float64, smoothness_std: tf.float64, compact_std: tf.float64, concavity_std: tf.float64, concave_std: tf.float64, symmetry_std: tf.float64, fractal_std: tf.float64, radius_l: tf.float64, texture_l: tf.float64, perimeter_l: tf.float64, area_l: tf.float64, smoothness_l: tf.float64, compact_l: tf.float64, concavity_l: tf.float64, concave_l: tf.float64, symmetry_l: tf.float64, fractal_l: tf.float64}, tf.int32)>\n"
     ]
    }
   ],
   "source": [
    "df_copy = df.copy()\n",
    "labels = df_copy.pop('diagnosis')\n",
    "labels[labels=='M']=1\n",
    "labels[labels=='B']=0\n",
    "\n",
    "df_slices = tf.data.Dataset.from_tensor_slices((dict(df_copy), labels))\n",
    "df_batches = df_slices.batch(BATCH_SIZE)\n",
    "print(df_batches)"
   ]
  },
  {
   "cell_type": "code",
   "execution_count": 40,
   "metadata": {
    "scrolled": true
   },
   "outputs": [
    {
     "data": {
      "text/plain": [
       "<tf.Tensor: shape=(50,), dtype=float64, numpy=\n",
       "array([10.38, 17.77, 21.25, 20.38, 14.34, 15.7 , 19.98, 20.83, 21.82,\n",
       "       24.04, 23.24, 17.89, 24.8 , 23.95, 22.61, 27.54, 20.13, 20.68,\n",
       "       22.15, 14.36, 15.71, 12.44, 14.26, 23.04, 21.38, 16.4 , 21.53,\n",
       "       20.25, 25.27, 15.05, 25.11, 18.7 , 23.98, 26.47, 17.88, 21.59,\n",
       "       21.72, 18.42, 25.2 , 20.82, 21.58, 21.35, 24.81, 20.28, 21.81,\n",
       "       17.6 , 16.84, 18.66, 14.63, 22.3 ])>"
      ]
     },
     "execution_count": 40,
     "metadata": {},
     "output_type": "execute_result"
    }
   ],
   "source": [
    "example_batch = next(iter(df_batches))[0]\n",
    "example_batch['texture_m']"
   ]
  },
  {
   "cell_type": "code",
   "execution_count": 41,
   "metadata": {},
   "outputs": [],
   "source": [
    "# Preprocessing\n",
    "# cat_col = tf.feature_column.categorical_column_with_vocabulary_list(key='diagnosis',\n",
    "#                                                                    vocabulary_list=['M','B'])\n",
    "# cat_cols = [tf.feature_column.indicator_column(cat_col)]\n",
    "\n",
    "feature_columns = []\n",
    "for h in header:\n",
    "    if not h == 'id' and not h=='diagnosis':\n",
    "        feature_columns.append(tf.feature_column.numeric_column(h))\n",
    "\n",
    "# Define a feature layer\n",
    "featureLayer = tf.keras.layers.DenseFeatures(feature_columns)\n"
   ]
  },
  {
   "cell_type": "code",
   "execution_count": 103,
   "metadata": {},
   "outputs": [],
   "source": [
    "# Create a model\n",
    "seqModel = tf.keras.Sequential(\n",
    "[#featureLayer,\n",
    " tf.keras.layers.Input(shape=(30,)),\n",
    " tf.keras.layers.Dense(100),\n",
    " tf.keras.layers.Activation('relu'),\n",
    " \n",
    " tf.keras.layers.Dense(60),\n",
    " tf.keras.layers.Activation('relu'),\n",
    " \n",
    " tf.keras.layers.Dense(50),\n",
    " tf.keras.layers.Activation('relu'),\n",
    " \n",
    " tf.keras.layers.Dense(10),\n",
    " tf.keras.layers.Activation('relu'),\n",
    " \n",
    " tf.keras.layers.Dense(1, activation='softmax')\n",
    "]\n",
    ")"
   ]
  },
  {
   "cell_type": "code",
   "execution_count": 110,
   "metadata": {},
   "outputs": [],
   "source": [
    "# Compile the model\n",
    "seqModel.compile(optimizer=tf.keras.optimizers.SGD(lr=0.3), \n",
    "                 loss=tf.keras.losses.BinaryCrossentropy(), \n",
    "                 metrics=['accuracy'])\n"
   ]
  },
  {
   "cell_type": "code",
   "execution_count": 81,
   "metadata": {
    "scrolled": false
   },
   "outputs": [
    {
     "name": "stdout",
     "output_type": "stream",
     "text": [
      "\n"
     ]
    }
   ],
   "source": [
    "# Fit the model\n",
    "# seqModel.fit(x=df_batches, epochs=EPOCHS)\n"
   ]
  },
  {
   "cell_type": "code",
   "execution_count": 111,
   "metadata": {},
   "outputs": [
    {
     "name": "stdout",
     "output_type": "stream",
     "text": [
      "Train on 398 samples, validate on 171 samples\n",
      "Epoch 1/10\n",
      "398/398 [==============================] - 1s 1ms/sample - loss: 8.6208 - accuracy: 0.4347 - val_loss: 11.7713 - val_accuracy: 0.2281\n",
      "Epoch 2/10\n",
      "398/398 [==============================] - 0s 114us/sample - loss: 8.6208 - accuracy: 0.4347 - val_loss: 11.7713 - val_accuracy: 0.2281\n",
      "Epoch 3/10\n",
      "398/398 [==============================] - 0s 172us/sample - loss: 8.6208 - accuracy: 0.4347 - val_loss: 11.7713 - val_accuracy: 0.2281\n",
      "Epoch 4/10\n",
      "398/398 [==============================] - 0s 131us/sample - loss: 8.6208 - accuracy: 0.4347 - val_loss: 11.7713 - val_accuracy: 0.2281\n",
      "Epoch 5/10\n",
      "398/398 [==============================] - 0s 124us/sample - loss: 8.6208 - accuracy: 0.4347 - val_loss: 11.7713 - val_accuracy: 0.2281\n",
      "Epoch 6/10\n",
      "398/398 [==============================] - 0s 110us/sample - loss: 8.6208 - accuracy: 0.4347 - val_loss: 11.7713 - val_accuracy: 0.2281\n",
      "Epoch 7/10\n",
      "398/398 [==============================] - 0s 119us/sample - loss: 8.6208 - accuracy: 0.4347 - val_loss: 11.7713 - val_accuracy: 0.2281\n",
      "Epoch 8/10\n",
      "398/398 [==============================] - 0s 102us/sample - loss: 8.6208 - accuracy: 0.4347 - val_loss: 11.7713 - val_accuracy: 0.2281\n",
      "Epoch 9/10\n",
      "398/398 [==============================] - 0s 108us/sample - loss: 8.6208 - accuracy: 0.4347 - val_loss: 11.7713 - val_accuracy: 0.2281\n",
      "Epoch 10/10\n",
      "398/398 [==============================] - 0s 116us/sample - loss: 8.6208 - accuracy: 0.4347 - val_loss: 11.7713 - val_accuracy: 0.2281\n"
     ]
    },
    {
     "data": {
      "text/plain": [
       "<tensorflow.python.keras.callbacks.History at 0x7fd2851d9510>"
      ]
     },
     "execution_count": 111,
     "metadata": {},
     "output_type": "execute_result"
    }
   ],
   "source": [
    "# X = df.iloc[:, 2:]\n",
    "# X = X.to_numpy()\n",
    "# Y = labels.to_numpy()\n",
    "\n",
    "# seqModel.fit(x=X.astype(np.float32), y=Y.astype(np.float32), epochs=EPOCHS, validation_split=0.3)\n",
    "\n",
    "X = tf.convert_to_tensor(df.iloc[:, 2:].to_numpy())\n",
    "Y = tf.convert_to_tensor(labels)\n",
    "\n",
    "seqModel.fit(x=X, y=Y, epochs=EPOCHS, validation_split=0.3)"
   ]
  },
  {
   "cell_type": "code",
   "execution_count": null,
   "metadata": {},
   "outputs": [],
   "source": []
  }
 ],
 "metadata": {
  "kernelspec": {
   "display_name": "Python 3",
   "language": "python",
   "name": "python3"
  },
  "language_info": {
   "codemirror_mode": {
    "name": "ipython",
    "version": 3
   },
   "file_extension": ".py",
   "mimetype": "text/x-python",
   "name": "python",
   "nbconvert_exporter": "python",
   "pygments_lexer": "ipython3",
   "version": "3.7.4"
  }
 },
 "nbformat": 4,
 "nbformat_minor": 2
}
